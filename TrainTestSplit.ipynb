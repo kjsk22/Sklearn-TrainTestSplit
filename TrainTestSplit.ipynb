{
 "cells": [
  {
   "cell_type": "code",
   "execution_count": 1,
   "metadata": {},
   "outputs": [],
   "source": [
    "import numpy as np\n",
    "from sklearn.model_selection import train_test_split"
   ]
  },
  {
   "cell_type": "code",
   "execution_count": 32,
   "metadata": {},
   "outputs": [
    {
     "data": {
      "text/plain": [
       "array([ 1,  2,  3,  4,  5,  6,  7,  8,  9, 10, 11, 12, 13, 14, 15, 16, 17,\n",
       "       18, 19, 20, 21, 22, 23, 24, 25, 26, 27, 28, 29, 30, 31, 32, 33, 34,\n",
       "       35, 36, 37, 38, 39, 40, 41, 42, 43, 44, 45, 46, 47, 48, 49, 50, 51,\n",
       "       52, 53, 54, 55, 56, 57, 58, 59, 60, 61, 62, 63, 64, 65, 66, 67, 68,\n",
       "       69, 70, 71, 72, 73, 74, 75, 76, 77, 78, 79, 80, 81, 82, 83, 84, 85,\n",
       "       86, 87, 88, 89, 90, 91, 92, 93, 94, 95, 96, 97, 98, 99])"
      ]
     },
     "execution_count": 32,
     "metadata": {},
     "output_type": "execute_result"
    }
   ],
   "source": [
    "a = np.arange(1,100)\n",
    "a"
   ]
  },
  {
   "cell_type": "code",
   "execution_count": 3,
   "metadata": {},
   "outputs": [
    {
     "data": {
      "text/plain": [
       "[array([67, 17, 38, 10, 68, 60, 31, 21, 95, 99, 58, 30, 63, 49, 71, 34, 89,\n",
       "         3, 70, 51, 97, 73, 48, 81, 69, 41, 40, 84, 50, 96, 22, 88, 18, 61,\n",
       "        33, 85, 76, 45, 80, 79, 66, 65, 86, 64, 36, 35, 44, 77, 42,  9, 62,\n",
       "        24, 37, 56, 19, 59,  4, 91, 57, 83, 87, 23,  8, 46, 55, 47, 90,  5,\n",
       "        25, 43, 94, 20,  7, 72]),\n",
       " array([92, 82,  2, 14,  1, 98, 13, 53,  6, 52, 28, 12, 27, 78, 16, 26, 39,\n",
       "        32, 74, 93, 29, 54, 15, 11, 75])]"
      ]
     },
     "execution_count": 3,
     "metadata": {},
     "output_type": "execute_result"
    }
   ],
   "source": [
    "train_test_split(a)"
   ]
  },
  {
   "cell_type": "code",
   "execution_count": 14,
   "metadata": {},
   "outputs": [],
   "source": [
    "a_train, a_test = train_test_split(a, test_size = 0.1, shuffle = False)"
   ]
  },
  {
   "cell_type": "code",
   "execution_count": 15,
   "metadata": {},
   "outputs": [
    {
     "data": {
      "text/plain": [
       "array([ 1,  2,  3,  4,  5,  6,  7,  8,  9, 10, 11, 12, 13, 14, 15, 16, 17,\n",
       "       18, 19, 20, 21, 22, 23, 24, 25, 26, 27, 28, 29, 30, 31, 32, 33, 34,\n",
       "       35, 36, 37, 38, 39, 40, 41, 42, 43, 44, 45, 46, 47, 48, 49, 50, 51,\n",
       "       52, 53, 54, 55, 56, 57, 58, 59, 60, 61, 62, 63, 64, 65, 66, 67, 68,\n",
       "       69, 70, 71, 72, 73, 74, 75, 76, 77, 78, 79, 80, 81, 82, 83, 84, 85,\n",
       "       86, 87, 88, 89])"
      ]
     },
     "execution_count": 15,
     "metadata": {},
     "output_type": "execute_result"
    }
   ],
   "source": [
    "a_train"
   ]
  },
  {
   "cell_type": "code",
   "execution_count": 16,
   "metadata": {},
   "outputs": [
    {
     "data": {
      "text/plain": [
       "array([90, 91, 92, 93, 94, 95, 96, 97, 98, 99])"
      ]
     },
     "execution_count": 16,
     "metadata": {},
     "output_type": "execute_result"
    }
   ],
   "source": [
    "a_test"
   ]
  },
  {
   "cell_type": "code",
   "execution_count": 27,
   "metadata": {},
   "outputs": [],
   "source": [
    "a_train, a_test = train_test_split(a, test_size = 0.1, random_state = 42)"
   ]
  },
  {
   "cell_type": "code",
   "execution_count": 28,
   "metadata": {},
   "outputs": [
    {
     "data": {
      "text/plain": [
       "array([32, 77, 48, 27, 45,  5, 23, 13, 89, 74, 50, 71, 69, 16, 40, 34, 10,\n",
       "       82, 12, 66, 95, 31, 29, 90,  6, 46, 70, 36, 17, 73, 35,  8, 56, 28,\n",
       "       20, 81, 26, 54, 14, 25,  4, 18, 39,  9, 78,  7, 80, 37, 92, 57, 99,\n",
       "       55, 44, 51, 67, 47, 68, 62, 97, 79, 42, 59, 49, 86, 58, 76, 33, 94,\n",
       "       60, 64, 84, 38, 30,  2, 53, 22,  3, 24, 88, 91, 75, 87, 83, 21, 61,\n",
       "       72, 15, 93, 52])"
      ]
     },
     "execution_count": 28,
     "metadata": {},
     "output_type": "execute_result"
    }
   ],
   "source": [
    "a_train"
   ]
  },
  {
   "cell_type": "code",
   "execution_count": 29,
   "metadata": {},
   "outputs": [
    {
     "data": {
      "text/plain": [
       "array([63, 41, 96, 19, 98, 85, 65, 43, 11,  1])"
      ]
     },
     "execution_count": 29,
     "metadata": {},
     "output_type": "execute_result"
    }
   ],
   "source": [
    "a_test"
   ]
  },
  {
   "cell_type": "code",
   "execution_count": 31,
   "metadata": {},
   "outputs": [
    {
     "data": {
      "text/plain": [
       "array([900, 901, 902, 903, 904, 905, 906, 907, 908, 909, 910, 911, 912,\n",
       "       913, 914, 915, 916, 917, 918, 919, 920, 921, 922, 923, 924, 925,\n",
       "       926, 927, 928, 929, 930, 931, 932, 933, 934, 935, 936, 937, 938,\n",
       "       939, 940, 941, 942, 943, 944, 945, 946, 947, 948, 949, 950, 951,\n",
       "       952, 953, 954, 955, 956, 957, 958, 959, 960, 961, 962, 963, 964,\n",
       "       965, 966, 967, 968, 969, 970, 971, 972, 973, 974, 975, 976, 977,\n",
       "       978, 979, 980, 981, 982, 983, 984, 985, 986, 987, 988, 989, 990,\n",
       "       991, 992, 993, 994, 995, 996, 997, 998])"
      ]
     },
     "execution_count": 31,
     "metadata": {},
     "output_type": "execute_result"
    }
   ],
   "source": [
    "b = np.arange(900,999)\n",
    "b"
   ]
  },
  {
   "cell_type": "code",
   "execution_count": 33,
   "metadata": {},
   "outputs": [],
   "source": [
    "a_train, a_test, b_train, b_test = train_test_split(a,b, test_size = 0.1, random_state = 42)"
   ]
  },
  {
   "cell_type": "code",
   "execution_count": 34,
   "metadata": {},
   "outputs": [
    {
     "data": {
      "text/plain": [
       "array([32, 77, 48, 27, 45,  5, 23, 13, 89, 74, 50, 71, 69, 16, 40, 34, 10,\n",
       "       82, 12, 66, 95, 31, 29, 90,  6, 46, 70, 36, 17, 73, 35,  8, 56, 28,\n",
       "       20, 81, 26, 54, 14, 25,  4, 18, 39,  9, 78,  7, 80, 37, 92, 57, 99,\n",
       "       55, 44, 51, 67, 47, 68, 62, 97, 79, 42, 59, 49, 86, 58, 76, 33, 94,\n",
       "       60, 64, 84, 38, 30,  2, 53, 22,  3, 24, 88, 91, 75, 87, 83, 21, 61,\n",
       "       72, 15, 93, 52])"
      ]
     },
     "execution_count": 34,
     "metadata": {},
     "output_type": "execute_result"
    }
   ],
   "source": [
    "a_train"
   ]
  },
  {
   "cell_type": "code",
   "execution_count": 35,
   "metadata": {},
   "outputs": [
    {
     "data": {
      "text/plain": [
       "array([931, 976, 947, 926, 944, 904, 922, 912, 988, 973, 949, 970, 968,\n",
       "       915, 939, 933, 909, 981, 911, 965, 994, 930, 928, 989, 905, 945,\n",
       "       969, 935, 916, 972, 934, 907, 955, 927, 919, 980, 925, 953, 913,\n",
       "       924, 903, 917, 938, 908, 977, 906, 979, 936, 991, 956, 998, 954,\n",
       "       943, 950, 966, 946, 967, 961, 996, 978, 941, 958, 948, 985, 957,\n",
       "       975, 932, 993, 959, 963, 983, 937, 929, 901, 952, 921, 902, 923,\n",
       "       987, 990, 974, 986, 982, 920, 960, 971, 914, 992, 951])"
      ]
     },
     "execution_count": 35,
     "metadata": {},
     "output_type": "execute_result"
    }
   ],
   "source": [
    "b_train"
   ]
  },
  {
   "cell_type": "code",
   "execution_count": 36,
   "metadata": {},
   "outputs": [
    {
     "data": {
      "text/plain": [
       "array([63, 41, 96, 19, 98, 85, 65, 43, 11,  1])"
      ]
     },
     "execution_count": 36,
     "metadata": {},
     "output_type": "execute_result"
    }
   ],
   "source": [
    "a_test"
   ]
  },
  {
   "cell_type": "code",
   "execution_count": 37,
   "metadata": {},
   "outputs": [
    {
     "data": {
      "text/plain": [
       "array([962, 940, 995, 918, 997, 984, 964, 942, 910, 900])"
      ]
     },
     "execution_count": 37,
     "metadata": {},
     "output_type": "execute_result"
    }
   ],
   "source": [
    "b_test"
   ]
  },
  {
   "cell_type": "code",
   "execution_count": 43,
   "metadata": {},
   "outputs": [
    {
     "data": {
      "text/plain": [
       "array([[1.10000e+00, 3.93430e+04, 2.00000e+03],\n",
       "       [2.00000e+00, 4.35250e+04, 2.00000e+03],\n",
       "       [3.00000e+00, 6.01500e+04, 4.00000e+03],\n",
       "       [4.00000e+00, 5.57940e+04, 4.00000e+03],\n",
       "       [4.00000e+00, 5.57940e+04, 4.00000e+03],\n",
       "       [5.30000e+00, 8.30880e+04, 4.00000e+03],\n",
       "       [6.00000e+00, 9.39400e+04, 4.00000e+03],\n",
       "       [6.00000e+00, 1.01302e+05, 4.00000e+03],\n",
       "       [8.70000e+00, 5.00000e+07, 3.00000e+04],\n",
       "       [9.00000e+00, 1.05582e+05, 6.00000e+03],\n",
       "       [1.03000e+01, 1.05582e+05, 6.00000e+03]])"
      ]
     },
     "execution_count": 43,
     "metadata": {},
     "output_type": "execute_result"
    }
   ],
   "source": [
    "from numpy import genfromtxt\n",
    "my_data = genfromtxt('SalaryData.csv', delimiter=',')\n",
    "my_data"
   ]
  },
  {
   "cell_type": "code",
   "execution_count": 44,
   "metadata": {},
   "outputs": [
    {
     "data": {
      "text/plain": [
       "array([[9.00000e+00, 1.05582e+05, 6.00000e+03],\n",
       "       [1.03000e+01, 1.05582e+05, 6.00000e+03],\n",
       "       [3.00000e+00, 6.01500e+04, 4.00000e+03],\n",
       "       [2.00000e+00, 4.35250e+04, 2.00000e+03],\n",
       "       [8.70000e+00, 5.00000e+07, 3.00000e+04],\n",
       "       [4.00000e+00, 5.57940e+04, 4.00000e+03],\n",
       "       [6.00000e+00, 1.01302e+05, 4.00000e+03],\n",
       "       [4.00000e+00, 5.57940e+04, 4.00000e+03],\n",
       "       [6.00000e+00, 9.39400e+04, 4.00000e+03]])"
      ]
     },
     "execution_count": 44,
     "metadata": {},
     "output_type": "execute_result"
    }
   ],
   "source": [
    "my_train, my_test = train_test_split(my_data, test_size = 0.1, random_state = 42)\n",
    "my_train"
   ]
  },
  {
   "cell_type": "code",
   "execution_count": 45,
   "metadata": {},
   "outputs": [
    {
     "data": {
      "text/plain": [
       "array([[5.3000e+00, 8.3088e+04, 4.0000e+03],\n",
       "       [1.1000e+00, 3.9343e+04, 2.0000e+03]])"
      ]
     },
     "execution_count": 45,
     "metadata": {},
     "output_type": "execute_result"
    }
   ],
   "source": [
    "my_test"
   ]
  },
  {
   "cell_type": "code",
   "execution_count": null,
   "metadata": {},
   "outputs": [],
   "source": []
  }
 ],
 "metadata": {
  "kernelspec": {
   "display_name": "Python 3",
   "language": "python",
   "name": "python3"
  },
  "language_info": {
   "codemirror_mode": {
    "name": "ipython",
    "version": 3
   },
   "file_extension": ".py",
   "mimetype": "text/x-python",
   "name": "python",
   "nbconvert_exporter": "python",
   "pygments_lexer": "ipython3",
   "version": "3.7.6"
  }
 },
 "nbformat": 4,
 "nbformat_minor": 4
}
